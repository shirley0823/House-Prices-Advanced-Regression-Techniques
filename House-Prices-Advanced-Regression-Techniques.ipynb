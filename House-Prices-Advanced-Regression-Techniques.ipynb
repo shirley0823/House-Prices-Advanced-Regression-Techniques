{
 "cells": [
  {
   "cell_type": "code",
   "execution_count": 13,
   "metadata": {
    "colab": {
     "base_uri": "https://localhost:8080/",
     "height": 238
    },
    "colab_type": "code",
    "id": "QcwQ5hdHdllC",
    "outputId": "28504acc-f712-42fd-d5dd-493f73e4a522",
    "scrolled": true
   },
   "outputs": [
    {
     "name": "stdout",
     "output_type": "stream",
     "text": [
      "Requirement already satisfied: vecstack in /anaconda3/lib/python3.7/site-packages (0.4.0)\n",
      "Requirement already satisfied: scikit-learn>=0.18 in /anaconda3/lib/python3.7/site-packages (from vecstack) (0.21.2)\n",
      "Requirement already satisfied: scipy in /anaconda3/lib/python3.7/site-packages (from vecstack) (1.3.0)\n",
      "Requirement already satisfied: numpy in /anaconda3/lib/python3.7/site-packages (from vecstack) (1.16.4)\n",
      "Requirement already satisfied: joblib>=0.11 in /anaconda3/lib/python3.7/site-packages (from scikit-learn>=0.18->vecstack) (0.13.2)\n"
     ]
    }
   ],
   "source": [
    "!pip install vecstack"
   ]
  },
  {
   "cell_type": "code",
   "execution_count": 14,
   "metadata": {},
   "outputs": [
    {
     "name": "stdout",
     "output_type": "stream",
     "text": [
      "Requirement already satisfied: imblearn in /anaconda3/lib/python3.7/site-packages (0.0)\n",
      "Requirement already satisfied: imbalanced-learn in /anaconda3/lib/python3.7/site-packages (from imblearn) (0.5.0)\n",
      "Requirement already satisfied: scikit-learn>=0.21 in /anaconda3/lib/python3.7/site-packages (from imbalanced-learn->imblearn) (0.21.2)\n",
      "Requirement already satisfied: joblib>=0.11 in /anaconda3/lib/python3.7/site-packages (from imbalanced-learn->imblearn) (0.13.2)\n",
      "Requirement already satisfied: scipy>=0.17 in /anaconda3/lib/python3.7/site-packages (from imbalanced-learn->imblearn) (1.3.0)\n",
      "Requirement already satisfied: numpy>=1.11 in /anaconda3/lib/python3.7/site-packages (from imbalanced-learn->imblearn) (1.16.4)\n"
     ]
    }
   ],
   "source": [
    "!pip install imblearn"
   ]
  },
  {
   "cell_type": "code",
   "execution_count": 88,
   "metadata": {
    "colab": {},
    "colab_type": "code",
    "id": "eQqGDszCfMbu"
   },
   "outputs": [],
   "source": [
    "from vecstack import stacking\n",
    "import pandas as pd\n",
    "import numpy as np\n",
    "from sklearn.metrics import accuracy_score\n",
    "from sklearn.model_selection import train_test_split\n",
    "from sklearn.ensemble import RandomForestRegressor\n",
    "from sklearn.ensemble import GradientBoostingRegressor\n",
    "from sklearn.tree import DecisionTreeRegressor\n",
    "from sklearn.model_selection import GridSearchCV\n",
    "from sklearn.model_selection import RandomizedSearchCV\n",
    "from sklearn.model_selection import cross_val_score\n",
    "from sklearn.metrics import classification_report, confusion_matrix\n",
    "from sklearn.linear_model import SGDRegressor\n",
    "from sklearn.neural_network import MLPRegressor\n",
    "from sklearn.neighbors import KNeighborsRegressor\n",
    "from sklearn.svm import SVR\n",
    "from imblearn.over_sampling import SMOTE \n",
    "from collections import Counter\n",
    "\n",
    "import warnings\n",
    "warnings.filterwarnings(\"ignore\")"
   ]
  },
  {
   "cell_type": "code",
   "execution_count": 65,
   "metadata": {
    "colab": {
     "base_uri": "https://localhost:8080/",
     "height": 357
    },
    "colab_type": "code",
    "id": "1vyZX66TfUTt",
    "outputId": "7c00eb31-0fc7-4515-c717-dc984cc7a242"
   },
   "outputs": [
    {
     "name": "stdout",
     "output_type": "stream",
     "text": [
      "(1460, 81)\n",
      "(1459, 80)\n"
     ]
    }
   ],
   "source": [
    "# To upload our datasets from our working directory we need to mount our drive contents to the colab environment. \n",
    "# For the code to do so you can search “mount” in code snippets or use the code given below. \n",
    "# Our entire drive contents are now mounted on colab at the location “/gdrive”.\n",
    "\n",
    "trainfile = r'train.csv'\n",
    "train_data = pd.read_csv(trainfile)\n",
    "\n",
    "testfile = r'test.csv'\n",
    "test_data = pd.read_csv(testfile)\n",
    "\n",
    "print(train_data.shape)\n",
    "print(test_data.shape)"
   ]
  },
  {
   "cell_type": "code",
   "execution_count": 66,
   "metadata": {
    "scrolled": true
   },
   "outputs": [
    {
     "data": {
      "text/plain": [
       "Alley          0.937671\n",
       "PoolQC         0.995205\n",
       "Fence          0.807534\n",
       "MiscFeature    0.963014\n",
       "dtype: float64"
      ]
     },
     "execution_count": 66,
     "metadata": {},
     "output_type": "execute_result"
    }
   ],
   "source": [
    "# Decide which Train data should drop\n",
    "train_missing = train_data.isna().sum() / train_data.shape[0]\n",
    "train_missing[train_missing > 0.7]"
   ]
  },
  {
   "cell_type": "code",
   "execution_count": 67,
   "metadata": {},
   "outputs": [
    {
     "data": {
      "text/plain": [
       "Alley          0.926662\n",
       "PoolQC         0.997944\n",
       "Fence          0.801234\n",
       "MiscFeature    0.965045\n",
       "dtype: float64"
      ]
     },
     "execution_count": 67,
     "metadata": {},
     "output_type": "execute_result"
    }
   ],
   "source": [
    "# Decide which Test data should drop\n",
    "test_missing = test_data.isna().sum() / test_data.shape[0]\n",
    "test_missing[test_missing > 0.7]"
   ]
  },
  {
   "cell_type": "code",
   "execution_count": 68,
   "metadata": {},
   "outputs": [
    {
     "data": {
      "text/plain": [
       "Index(['Alley', 'PoolQC', 'Fence', 'MiscFeature'], dtype='object')"
      ]
     },
     "execution_count": 68,
     "metadata": {},
     "output_type": "execute_result"
    }
   ],
   "source": [
    "train_data.loc[:, (train_data.isna().sum() / train_data.shape[0] > 0.7)].columns"
   ]
  },
  {
   "cell_type": "code",
   "execution_count": 69,
   "metadata": {},
   "outputs": [
    {
     "data": {
      "text/plain": [
       "Index(['Alley', 'PoolQC', 'Fence', 'MiscFeature'], dtype='object')"
      ]
     },
     "execution_count": 69,
     "metadata": {},
     "output_type": "execute_result"
    }
   ],
   "source": [
    "test_data.loc[:, (test_data.isna().sum() / test_data.shape[0] > 0.7)].columns"
   ]
  },
  {
   "cell_type": "code",
   "execution_count": 70,
   "metadata": {},
   "outputs": [],
   "source": [
    "# Drop Train data that the percentage of missing value is larger than 0.7\n",
    "train_data.drop(train_missing[train_missing > 0.7].index, axis = 1, inplace = True)"
   ]
  },
  {
   "cell_type": "code",
   "execution_count": 71,
   "metadata": {},
   "outputs": [],
   "source": [
    "# Drop Test data that the percentage of missing value is larger than 0.7\n",
    "test_data.drop(test_missing[test_missing > 0.7].index, axis = 1, inplace = True)"
   ]
  },
  {
   "cell_type": "code",
   "execution_count": 72,
   "metadata": {},
   "outputs": [
    {
     "data": {
      "text/html": [
       "<div>\n",
       "<style scoped>\n",
       "    .dataframe tbody tr th:only-of-type {\n",
       "        vertical-align: middle;\n",
       "    }\n",
       "\n",
       "    .dataframe tbody tr th {\n",
       "        vertical-align: top;\n",
       "    }\n",
       "\n",
       "    .dataframe thead th {\n",
       "        text-align: right;\n",
       "    }\n",
       "</style>\n",
       "<table border=\"1\" class=\"dataframe\">\n",
       "  <thead>\n",
       "    <tr style=\"text-align: right;\">\n",
       "      <th></th>\n",
       "      <th>Id</th>\n",
       "      <th>MSSubClass</th>\n",
       "      <th>MSZoning</th>\n",
       "      <th>LotFrontage</th>\n",
       "      <th>LotArea</th>\n",
       "      <th>Street</th>\n",
       "      <th>LotShape</th>\n",
       "      <th>LandContour</th>\n",
       "      <th>Utilities</th>\n",
       "      <th>LotConfig</th>\n",
       "      <th>...</th>\n",
       "      <th>EnclosedPorch</th>\n",
       "      <th>3SsnPorch</th>\n",
       "      <th>ScreenPorch</th>\n",
       "      <th>PoolArea</th>\n",
       "      <th>MiscVal</th>\n",
       "      <th>MoSold</th>\n",
       "      <th>YrSold</th>\n",
       "      <th>SaleType</th>\n",
       "      <th>SaleCondition</th>\n",
       "      <th>SalePrice</th>\n",
       "    </tr>\n",
       "  </thead>\n",
       "  <tbody>\n",
       "    <tr>\n",
       "      <th>0</th>\n",
       "      <td>1</td>\n",
       "      <td>60</td>\n",
       "      <td>RL</td>\n",
       "      <td>65.0</td>\n",
       "      <td>8450</td>\n",
       "      <td>Pave</td>\n",
       "      <td>Reg</td>\n",
       "      <td>Lvl</td>\n",
       "      <td>AllPub</td>\n",
       "      <td>Inside</td>\n",
       "      <td>...</td>\n",
       "      <td>0</td>\n",
       "      <td>0</td>\n",
       "      <td>0</td>\n",
       "      <td>0</td>\n",
       "      <td>0</td>\n",
       "      <td>2</td>\n",
       "      <td>2008</td>\n",
       "      <td>WD</td>\n",
       "      <td>Normal</td>\n",
       "      <td>208500</td>\n",
       "    </tr>\n",
       "    <tr>\n",
       "      <th>1</th>\n",
       "      <td>2</td>\n",
       "      <td>20</td>\n",
       "      <td>RL</td>\n",
       "      <td>80.0</td>\n",
       "      <td>9600</td>\n",
       "      <td>Pave</td>\n",
       "      <td>Reg</td>\n",
       "      <td>Lvl</td>\n",
       "      <td>AllPub</td>\n",
       "      <td>FR2</td>\n",
       "      <td>...</td>\n",
       "      <td>0</td>\n",
       "      <td>0</td>\n",
       "      <td>0</td>\n",
       "      <td>0</td>\n",
       "      <td>0</td>\n",
       "      <td>5</td>\n",
       "      <td>2007</td>\n",
       "      <td>WD</td>\n",
       "      <td>Normal</td>\n",
       "      <td>181500</td>\n",
       "    </tr>\n",
       "    <tr>\n",
       "      <th>2</th>\n",
       "      <td>3</td>\n",
       "      <td>60</td>\n",
       "      <td>RL</td>\n",
       "      <td>68.0</td>\n",
       "      <td>11250</td>\n",
       "      <td>Pave</td>\n",
       "      <td>IR1</td>\n",
       "      <td>Lvl</td>\n",
       "      <td>AllPub</td>\n",
       "      <td>Inside</td>\n",
       "      <td>...</td>\n",
       "      <td>0</td>\n",
       "      <td>0</td>\n",
       "      <td>0</td>\n",
       "      <td>0</td>\n",
       "      <td>0</td>\n",
       "      <td>9</td>\n",
       "      <td>2008</td>\n",
       "      <td>WD</td>\n",
       "      <td>Normal</td>\n",
       "      <td>223500</td>\n",
       "    </tr>\n",
       "    <tr>\n",
       "      <th>3</th>\n",
       "      <td>4</td>\n",
       "      <td>70</td>\n",
       "      <td>RL</td>\n",
       "      <td>60.0</td>\n",
       "      <td>9550</td>\n",
       "      <td>Pave</td>\n",
       "      <td>IR1</td>\n",
       "      <td>Lvl</td>\n",
       "      <td>AllPub</td>\n",
       "      <td>Corner</td>\n",
       "      <td>...</td>\n",
       "      <td>272</td>\n",
       "      <td>0</td>\n",
       "      <td>0</td>\n",
       "      <td>0</td>\n",
       "      <td>0</td>\n",
       "      <td>2</td>\n",
       "      <td>2006</td>\n",
       "      <td>WD</td>\n",
       "      <td>Abnorml</td>\n",
       "      <td>140000</td>\n",
       "    </tr>\n",
       "    <tr>\n",
       "      <th>4</th>\n",
       "      <td>5</td>\n",
       "      <td>60</td>\n",
       "      <td>RL</td>\n",
       "      <td>84.0</td>\n",
       "      <td>14260</td>\n",
       "      <td>Pave</td>\n",
       "      <td>IR1</td>\n",
       "      <td>Lvl</td>\n",
       "      <td>AllPub</td>\n",
       "      <td>FR2</td>\n",
       "      <td>...</td>\n",
       "      <td>0</td>\n",
       "      <td>0</td>\n",
       "      <td>0</td>\n",
       "      <td>0</td>\n",
       "      <td>0</td>\n",
       "      <td>12</td>\n",
       "      <td>2008</td>\n",
       "      <td>WD</td>\n",
       "      <td>Normal</td>\n",
       "      <td>250000</td>\n",
       "    </tr>\n",
       "  </tbody>\n",
       "</table>\n",
       "<p>5 rows × 77 columns</p>\n",
       "</div>"
      ],
      "text/plain": [
       "   Id  MSSubClass MSZoning  LotFrontage  LotArea Street LotShape LandContour  \\\n",
       "0   1          60       RL         65.0     8450   Pave      Reg         Lvl   \n",
       "1   2          20       RL         80.0     9600   Pave      Reg         Lvl   \n",
       "2   3          60       RL         68.0    11250   Pave      IR1         Lvl   \n",
       "3   4          70       RL         60.0     9550   Pave      IR1         Lvl   \n",
       "4   5          60       RL         84.0    14260   Pave      IR1         Lvl   \n",
       "\n",
       "  Utilities LotConfig  ... EnclosedPorch 3SsnPorch ScreenPorch PoolArea  \\\n",
       "0    AllPub    Inside  ...             0         0           0        0   \n",
       "1    AllPub       FR2  ...             0         0           0        0   \n",
       "2    AllPub    Inside  ...             0         0           0        0   \n",
       "3    AllPub    Corner  ...           272         0           0        0   \n",
       "4    AllPub       FR2  ...             0         0           0        0   \n",
       "\n",
       "  MiscVal MoSold  YrSold  SaleType  SaleCondition  SalePrice  \n",
       "0       0      2    2008        WD         Normal     208500  \n",
       "1       0      5    2007        WD         Normal     181500  \n",
       "2       0      9    2008        WD         Normal     223500  \n",
       "3       0      2    2006        WD        Abnorml     140000  \n",
       "4       0     12    2008        WD         Normal     250000  \n",
       "\n",
       "[5 rows x 77 columns]"
      ]
     },
     "execution_count": 72,
     "metadata": {},
     "output_type": "execute_result"
    }
   ],
   "source": [
    "train_data.head()"
   ]
  },
  {
   "cell_type": "code",
   "execution_count": 75,
   "metadata": {},
   "outputs": [
    {
     "data": {
      "text/plain": [
       "Series([], dtype: float64)"
      ]
     },
     "execution_count": 75,
     "metadata": {},
     "output_type": "execute_result"
    }
   ],
   "source": [
    "train_data.loc[:, (train_data.isna().sum() > 0).values].isna().sum()"
   ]
  },
  {
   "cell_type": "code",
   "execution_count": 74,
   "metadata": {},
   "outputs": [],
   "source": [
    "# Manage the missing value in Train dataset\n",
    "train_data['LotFrontage'].interpolate(axis=0, inplace=True)\n",
    "train_data[['MasVnrType']].fillna('None', inplace=True)\n",
    "train_data.dropna(subset=['GarageType', 'GarageYrBlt', 'GarageFinish', 'GarageQual', 'GarageCond'], inplace=True)\n",
    "train_data.dropna(subset=['BsmtQual', 'BsmtCond', 'BsmtFinType1'], inplace=True)\n",
    "train_data.dropna(subset=['MasVnrType', 'MasVnrArea'], inplace=True)\n",
    "train_data.drop('FireplaceQu', axis=1, inplace=True)\n",
    "train_data['BsmtExposure'].fillna('No', inplace=True)\n",
    "train_data['BsmtFinType2'].fillna('Unf', inplace=True)\n",
    "train_data['Electrical'].fillna('SBrkr', inplace=True)"
   ]
  },
  {
   "cell_type": "code",
   "execution_count": 78,
   "metadata": {
    "scrolled": true
   },
   "outputs": [
    {
     "data": {
      "text/plain": [
       "Series([], dtype: float64)"
      ]
     },
     "execution_count": 78,
     "metadata": {},
     "output_type": "execute_result"
    }
   ],
   "source": [
    "test_data.loc[:, (test_data.isna().sum() > 0).values].isna().sum()"
   ]
  },
  {
   "cell_type": "code",
   "execution_count": 77,
   "metadata": {},
   "outputs": [],
   "source": [
    "# Manage the missing value in Test dataset\n",
    "test_data.fillna(method='ffill', inplace=True)\n",
    "test_data.fillna(method='bfill', inplace=True)"
   ]
  },
  {
   "cell_type": "code",
   "execution_count": 79,
   "metadata": {
    "colab": {
     "base_uri": "https://localhost:8080/",
     "height": 289
    },
    "colab_type": "code",
    "id": "OUBE7LTNfccW",
    "outputId": "3880bd02-869d-4176-8859-8bb53fb641b1"
   },
   "outputs": [
    {
     "name": "stdout",
     "output_type": "stream",
     "text": [
      "(1341, 274)\n",
      "   1stFlrSF  2ndFlrSF  3SsnPorch  BedroomAbvGr  BsmtFinSF1  BsmtFinSF2  \\\n",
      "0       896         0          0             2       468.0       144.0   \n",
      "1      1329         0          0             3       923.0         0.0   \n",
      "2       928       701          0             3       791.0         0.0   \n",
      "3       926       678          0             3       602.0         0.0   \n",
      "4      1280         0          0             2       263.0         0.0   \n",
      "\n",
      "   BsmtFullBath  BsmtHalfBath  BsmtUnfSF  EnclosedPorch  ...  SaleType_ConLD  \\\n",
      "0           0.0           0.0      270.0              0  ...               0   \n",
      "1           0.0           0.0      406.0              0  ...               0   \n",
      "2           0.0           0.0      137.0              0  ...               0   \n",
      "3           0.0           0.0      324.0              0  ...               0   \n",
      "4           0.0           0.0     1017.0              0  ...               0   \n",
      "\n",
      "   SaleType_ConLI  SaleType_ConLw  SaleType_New  SaleType_Oth  SaleType_WD  \\\n",
      "0               0               0             0             0            1   \n",
      "1               0               0             0             0            1   \n",
      "2               0               0             0             0            1   \n",
      "3               0               0             0             0            1   \n",
      "4               0               0             0             0            1   \n",
      "\n",
      "   Street_Grvl  Street_Pave  Utilities_AllPub  Utilities_NoSeWa  \n",
      "0            0            1                 1                 0  \n",
      "1            0            1                 1                 0  \n",
      "2            0            1                 1                 0  \n",
      "3            0            1                 1                 0  \n",
      "4            0            1                 1                 0  \n",
      "\n",
      "[5 rows x 274 columns]\n",
      "(1341,)\n"
     ]
    }
   ],
   "source": [
    "# Copy Train data excluding target\n",
    "trainData_Copy = train_data.drop(['SalePrice', 'Id'], axis=1).copy()\n",
    "testData_Copy = test_data.drop('Id', axis=1).copy()\n",
    "\n",
    "# Combine Train and test for One Hot Encoding\n",
    "combined_Data = pd.concat([trainData_Copy,testData_Copy], keys = [0,1])\n",
    "\n",
    "# Do One Hot Encoding for categorical features\n",
    "combined_Data = pd.get_dummies(combined_Data)\n",
    "\n",
    "# Separate Train data and test data\n",
    "X_train = combined_Data.xs(0)\n",
    "X_test = combined_Data.xs(1)\n",
    "\n",
    "y_train = train_data[\"SalePrice\"]\n",
    "\n",
    "print(X_train.shape)\n",
    "print(X_test.head()) \n",
    "\n",
    "print(y_train.shape)"
   ]
  },
  {
   "cell_type": "code",
   "execution_count": 31,
   "metadata": {
    "colab": {
     "base_uri": "https://localhost:8080/",
     "height": 85
    },
    "colab_type": "code",
    "id": "ouSzZTRsfnqO",
    "outputId": "d9ee2823-e2c3-4a4e-81f5-b7b9ba968110"
   },
   "outputs": [],
   "source": [
    "# Decision Tree - default mode\n",
    "clf = DecisionTreeRegressor()\n",
    "clf.fit(X_train, y_train)\n",
    "clf_predict = clf.predict(X_test)\n",
    "\n",
    "pd.DataFrame({'Id': test_data.Id, 'SalePrice': clf_predict}).to_csv('result_decisiontree', index=None)"
   ]
  },
  {
   "cell_type": "code",
   "execution_count": 32,
   "metadata": {
    "colab": {
     "base_uri": "https://localhost:8080/",
     "height": 34
    },
    "colab_type": "code",
    "id": "feUn7ef5fy4s",
    "outputId": "5559ad17-8fe9-4fb5-fd28-3a50b3a7ba5d"
   },
   "outputs": [
    {
     "name": "stdout",
     "output_type": "stream",
     "text": [
      "{'min_samples_split': 10, 'max_depth': 11}\n"
     ]
    }
   ],
   "source": [
    "# Hyperparameter tuning done for DecisionTreeRegressor\n",
    "parameters={'min_samples_split' : range(10,100,10),'max_depth': range(1,20,2)}\n",
    "clf_random = RandomizedSearchCV(clf, parameters, n_iter=15)\n",
    "clf_random.fit(X_train, y_train)\n",
    "grid_parm = clf_random.best_params_\n",
    "print(grid_parm)\n",
    "\n",
    "# Using the parameters obtained from HyperParameterTuning in the DecisionTreeRegressor\n",
    "clf = DecisionTreeRegressor(**grid_parm)\n",
    "clf.fit(X_train, y_train)\n",
    "clf_predict = clf.predict(X_test)\n",
    "\n",
    "pd.DataFrame({'Id': test_data.Id, 'SalePrice': clf_predict}).to_csv('result_decisiontree_best', index=None)"
   ]
  },
  {
   "cell_type": "code",
   "execution_count": 33,
   "metadata": {
    "colab": {
     "base_uri": "https://localhost:8080/",
     "height": 34
    },
    "colab_type": "code",
    "id": "cuhgy0RcseYE",
    "outputId": "4869ba63-6737-4aec-a77f-6dbaad6fa313"
   },
   "outputs": [],
   "source": [
    "# Random Forest - default mode\n",
    "rfc = RandomForestRegressor()\n",
    "rfc.fit(X_train, y_train)\n",
    "rfc_predict = rfc.predict(X_test)\n",
    "\n",
    "pd.DataFrame({'Id': test_data.Id, 'SalePrice': rfc_predict}).to_csv('result_randomforest', index=None)"
   ]
  },
  {
   "cell_type": "code",
   "execution_count": 34,
   "metadata": {
    "colab": {
     "base_uri": "https://localhost:8080/",
     "height": 34
    },
    "colab_type": "code",
    "id": "oEApT8zrg9rb",
    "outputId": "74f40a82-42ed-4076-f96e-8c9a9539ad48"
   },
   "outputs": [
    {
     "name": "stdout",
     "output_type": "stream",
     "text": [
      "{'n_estimators': 110, 'min_samples_split': 10, 'max_depth': 17}\n"
     ]
    }
   ],
   "source": [
    "# Hyperparameter tuning for RandomForestRegressor\n",
    "parameters = {'n_estimators': range(50,150,20), 'min_samples_split' : range(10,100,10), 'max_depth': range(1,20,2)}\n",
    "rfc_random = RandomizedSearchCV(rfc, parameters, n_iter=15)\n",
    "rfc_random.fit(X_train, y_train)\n",
    "grid_parm_rfc = rfc_random.best_params_\n",
    "print(grid_parm_rfc)\n",
    "\n",
    "# Contruct Random Forest using the best parameters\n",
    "rfc = RandomForestRegressor(**grid_parm_rfc)\n",
    "rfc.fit(X_train,y_train)\n",
    "rfc_predict = rfc.predict(X_test)\n",
    "\n",
    "pd.DataFrame({'Id': test_data.Id, 'SalePrice': rfc_predict}).to_csv('result_randomforest_best', index=None)"
   ]
  },
  {
   "cell_type": "code",
   "execution_count": 35,
   "metadata": {},
   "outputs": [],
   "source": [
    "# MLP Regressor - default mode\n",
    "mlp = MLPRegressor()\n",
    "mlp.fit(X_train, y_train)\n",
    "mlp_predict = mlp.predict(X_test)\n",
    "\n",
    "pd.DataFrame({'Id': test_data.Id, 'SalePrice': mlp_predict}).to_csv('result_mlpregressor', index=None)"
   ]
  },
  {
   "cell_type": "code",
   "execution_count": 36,
   "metadata": {},
   "outputs": [
    {
     "name": "stdout",
     "output_type": "stream",
     "text": [
      "{'learning_rate_init': 0.001, 'learning_rate': 'constant', 'hidden_layer_sizes': 290, 'activation': 'relu'}\n"
     ]
    }
   ],
   "source": [
    "# Hyperparameter tuning for MLP Regressor\n",
    "parameters = {'hidden_layer_sizes': range(100, 500, 10), 'activation': ['identity', 'logistic', 'tanh', 'relu'], 'learning_rate': ['constant', 'invscaling', 'adaptive'], 'learning_rate_init': [0.001, 0.01, 0.005]}\n",
    "mlp_random = RandomizedSearchCV(mlp, parameters, n_iter=15)\n",
    "mlp_random.fit(X_train, y_train)\n",
    "grid_parm_mlp = mlp_random.best_params_\n",
    "print(grid_parm_mlp)\n",
    "\n",
    "# Contruct MLP Regressor using the best parameters\n",
    "mlp = MLPRegressor(**grid_parm_mlp)\n",
    "mlp.fit(X_train,y_train)\n",
    "mlp_predict = mlp.predict(X_test)\n",
    "\n",
    "pd.DataFrame({'Id': test_data.Id, 'SalePrice': mlp_predict}).to_csv('result_mlpregressor_best', index=None)"
   ]
  },
  {
   "cell_type": "code",
   "execution_count": 37,
   "metadata": {},
   "outputs": [],
   "source": [
    "# Support Vector Regressor - default mode\n",
    "svr = SVR()\n",
    "svr.fit(X_train, y_train)\n",
    "svr_predict = svr.predict(X_test)\n",
    "\n",
    "pd.DataFrame({'Id': test_data.Id, 'SalePrice': svr_predict}).to_csv('result_svmregressor', index=None)"
   ]
  },
  {
   "cell_type": "code",
   "execution_count": 42,
   "metadata": {},
   "outputs": [
    {
     "name": "stdout",
     "output_type": "stream",
     "text": [
      "{'kernel': 'linear', 'degree': 2}\n"
     ]
    }
   ],
   "source": [
    "# Hyperparameter tuning for Support Vector Regressor\n",
    "parameters = {'kernel': ['linear', 'poly', 'rbf', 'sigmoid'], 'degree': range(1, 5, 1)}\n",
    "svr_random = RandomizedSearchCV(svr, parameters, n_iter=15)\n",
    "svr_random.fit(X_train, y_train)\n",
    "grid_parm_svr = svr_random.best_params_\n",
    "print(grid_parm_svr)\n",
    "\n",
    "# Contruct Support Vector Regressor using the best parameters\n",
    "svr = SVR(**grid_parm_svr)\n",
    "svr.fit(X_train, y_train)\n",
    "svr_predict = svr.predict(X_test)\n",
    "\n",
    "pd.DataFrame({'Id': test_data.Id, 'SalePrice': svr_predict}).to_csv('result_svmregressor_best', index=None)"
   ]
  },
  {
   "cell_type": "code",
   "execution_count": 91,
   "metadata": {
    "colab": {
     "base_uri": "https://localhost:8080/",
     "height": 34
    },
    "colab_type": "code",
    "id": "91eLALAohcl0",
    "outputId": "4e3fc54d-157a-491e-a947-40516647507a"
   },
   "outputs": [],
   "source": [
    "# Gradient Boosting Regressor - default mode\n",
    "search_random = {'n_estimators': range(1000, 5000, 100), 'learning_rate':[0.01, 0.1, 0.05]}\n",
    "abc = GradientBoostingRegressor()\n",
    "abc.fit(X_train, y_train)\n",
    "abc_predict = abc.predict(X_test)\n",
    "\n",
    "pd.DataFrame({'Id': test_data.Id, 'SalePrice': abc_predict}).to_csv('result_gradientboosting', index=None)"
   ]
  },
  {
   "cell_type": "code",
   "execution_count": 93,
   "metadata": {},
   "outputs": [
    {
     "name": "stdout",
     "output_type": "stream",
     "text": [
      "{'min_samples_split': 46, 'max_depth': 30}\n"
     ]
    }
   ],
   "source": [
    "# Hyperparameter tuning for Gradient Boosting Regressor\n",
    "parameters = {'min_samples_split': range(10, 50, 2), 'max_depth': range(10, 50, 5)}\n",
    "abc_random = RandomizedSearchCV(abc, parameters, n_iter=15)\n",
    "abc_random.fit(X_train, y_train)\n",
    "grid_parm_abc = abc_random.best_params_\n",
    "print(grid_parm_abc)\n",
    "\n",
    "# Contruct Gradient Boosting Regressor using the best parameters\n",
    "abc = GradientBoostingRegressor(**grid_parm_abc)\n",
    "abc.fit(X_train,y_train)\n",
    "abc_predict = abc.predict(X_test)\n",
    "\n",
    "pd.DataFrame({'Id': test_data.Id, 'SalePrice': abc_predict}).to_csv('result_gradientboosting_best', index=None)"
   ]
  },
  {
   "cell_type": "code",
   "execution_count": 82,
   "metadata": {
    "colab": {
     "base_uri": "https://localhost:8080/",
     "height": 493
    },
    "colab_type": "code",
    "id": "sWE9CI9eWFyx",
    "outputId": "6c917847-2e7a-43b9-c541-6477a8764956"
   },
   "outputs": [
    {
     "name": "stdout",
     "output_type": "stream",
     "text": [
      "Ensemble Methods Predictions using MLP Regressor, Random Forest Regressor and Decision Tree Regressor\n",
      "\n",
      "task:         [regression]\n",
      "metric:       [mean_absolute_error]\n",
      "mode:         [oof_pred_bag]\n",
      "n_models:     [3]\n",
      "\n",
      "model  0:     [MLPRegressor]\n",
      "    fold  0:  [28806.51569566]\n",
      "    fold  1:  [31058.52438161]\n",
      "    fold  2:  [28650.69785378]\n",
      "    fold  3:  [29497.06507736]\n",
      "    ----\n",
      "    MEAN:     [29503.20075210] + [952.78545572]\n",
      "    FULL:     [29502.68122559]\n",
      "\n",
      "model  1:     [RandomForestRegressor]\n",
      "    fold  0:  [17959.35655317]\n",
      "    fold  1:  [19663.28321144]\n",
      "    fold  2:  [16679.64870497]\n",
      "    fold  3:  [18794.90275060]\n",
      "    ----\n",
      "    MEAN:     [18274.29780505] + [1100.27311530]\n",
      "    FULL:     [18274.06294953]\n",
      "\n",
      "model  2:     [DecisionTreeRegressor]\n",
      "    fold  0:  [27897.16431457]\n",
      "    fold  1:  [27788.10229964]\n",
      "    fold  2:  [25168.71578756]\n",
      "    fold  3:  [26258.96423285]\n",
      "    ----\n",
      "    MEAN:     [26778.23665866] + [1132.69909935]\n",
      "    FULL:     [26779.07105661]\n",
      "\n"
     ]
    }
   ],
   "source": [
    "# Stacking Models\n",
    "print(\"Ensemble Methods Predictions using MLP Regressor, Random Forest Regressor and Decision Tree Regressor\\n\")\n",
    "\n",
    "models = [MLPRegressor(**grid_parm_mlp), RandomForestRegressor(**grid_parm_rfc), DecisionTreeRegressor(**grid_parm)]\n",
    "      \n",
    "S_Train, S_Test = stacking(models, X_train, y_train, X_test, regression=True, verbose=2)"
   ]
  },
  {
   "cell_type": "code",
   "execution_count": 83,
   "metadata": {
    "colab": {},
    "colab_type": "code",
    "id": "P3lLPxbSWNrK"
   },
   "outputs": [],
   "source": [
    "# Stacking - Construct a Random Forest Regressor\n",
    "model = RandomForestRegressor()  \n",
    "model = model.fit(S_Train, y_train)\n",
    "model_pred = model.predict(S_Test)\n",
    "\n",
    "pd.DataFrame({'Id': test_data.Id, 'SalePrice': model_pred}).to_csv('result_stacking', index=None)"
   ]
  }
 ],
 "metadata": {
  "colab": {
   "collapsed_sections": [],
   "name": "Copy of Assignment #3.ipynb",
   "provenance": []
  },
  "kernelspec": {
   "display_name": "Python 3",
   "language": "python",
   "name": "python3"
  },
  "language_info": {
   "codemirror_mode": {
    "name": "ipython",
    "version": 3
   },
   "file_extension": ".py",
   "mimetype": "text/x-python",
   "name": "python",
   "nbconvert_exporter": "python",
   "pygments_lexer": "ipython3",
   "version": "3.7.4"
  }
 },
 "nbformat": 4,
 "nbformat_minor": 1
}
